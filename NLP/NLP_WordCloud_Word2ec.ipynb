{
  "nbformat": 4,
  "nbformat_minor": 0,
  "metadata": {
    "colab": {
      "provenance": [],
      "toc_visible": true,
      "authorship_tag": "ABX9TyPz8HfBgBtBAC0N3BPo2RnY"
    },
    "kernelspec": {
      "name": "python3",
      "display_name": "Python 3"
    },
    "language_info": {
      "name": "python"
    }
  },
  "cells": [
    {
      "cell_type": "code",
      "execution_count": null,
      "metadata": {
        "colab": {
          "base_uri": "https://localhost:8080/"
        },
        "id": "YrCkt2ADXvMU",
        "outputId": "d3e9d08e-c269-4c9d-a017-b4c2a6385e79"
      },
      "outputs": [
        {
          "output_type": "stream",
          "name": "stdout",
          "text": [
            "['id\\tdocument\\tlabel\\n', '6270596\\t굳 ㅋ\\t1\\n', '9274899\\tGDNTOPCLASSINTHECLUB\\t0\\n', '8544678\\t뭐야 이 평점들은.... 나쁘진 않지만 10점 짜리는 더더욱 아니잖아\\t0\\n', '6825595\\t지루하지는 않은데 완전 막장임... 돈주고 보기에는....\\t0\\n', '6723715\\t3D만 아니었어도 별 다섯 개 줬을텐데.. 왜 3D로 나와서 제 심기를 불편하게 하죠??\\t0\\n', '7898805\\t음악이 주가 된, 최고의 음악영화\\t1\\n', '6315043\\t진정한 쓰레기\\t0\\n', '6097171\\t마치 미국애니에서 튀어나온듯한 창의력없는 로봇디자인부터가,고개를 젖게한다\\t0\\n', '8932678\\t갈수록 개판되가는 중국영화 유치하고 내용없음 폼잡다 끝남 말도안되는 무기에 유치한cg남무 아 그립다 동사서독같은 영화가 이건 3류아류작이다\\t0\\n']\n"
          ]
        }
      ],
      "source": [
        "f = open(\"/content/ratings.txt\")\n",
        "lines = f.readlines()[:10000]\n",
        "print(lines[:10])"
      ]
    },
    {
      "cell_type": "code",
      "source": [
        "s = []\n",
        "for line in lines [:10]:\n",
        "  s.append(line.strip())\n",
        "print(s)"
      ],
      "metadata": {
        "colab": {
          "base_uri": "https://localhost:8080/"
        },
        "id": "f94aRXBeZ2oA",
        "outputId": "434b5ab8-9a6a-4c2f-9aa6-22c0be5b9d72"
      },
      "execution_count": null,
      "outputs": [
        {
          "output_type": "stream",
          "name": "stdout",
          "text": [
            "['id\\tdocument\\tlabel', '6270596\\t굳 ㅋ\\t1', '9274899\\tGDNTOPCLASSINTHECLUB\\t0', '8544678\\t뭐야 이 평점들은.... 나쁘진 않지만 10점 짜리는 더더욱 아니잖아\\t0', '6825595\\t지루하지는 않은데 완전 막장임... 돈주고 보기에는....\\t0', '6723715\\t3D만 아니었어도 별 다섯 개 줬을텐데.. 왜 3D로 나와서 제 심기를 불편하게 하죠??\\t0', '7898805\\t음악이 주가 된, 최고의 음악영화\\t1', '6315043\\t진정한 쓰레기\\t0', '6097171\\t마치 미국애니에서 튀어나온듯한 창의력없는 로봇디자인부터가,고개를 젖게한다\\t0', '8932678\\t갈수록 개판되가는 중국영화 유치하고 내용없음 폼잡다 끝남 말도안되는 무기에 유치한cg남무 아 그립다 동사서독같은 영화가 이건 3류아류작이다\\t0']\n"
          ]
        }
      ]
    },
    {
      "cell_type": "code",
      "source": [
        "for i, line in enumerate(lines[:10]):  #열거\n",
        "  print(\"i :\", i)\n",
        "  print(\"split by tab : \", line.strip().split(\"\\t\"))"
      ],
      "metadata": {
        "colab": {
          "base_uri": "https://localhost:8080/"
        },
        "id": "HVulVSyGZ-pT",
        "outputId": "290b1b18-63fd-41dd-f522-378e5b85f6e1"
      },
      "execution_count": null,
      "outputs": [
        {
          "output_type": "stream",
          "name": "stdout",
          "text": [
            "i : 0\n",
            "split by tab :  ['id', 'document', 'label']\n",
            "i : 1\n",
            "split by tab :  ['6270596', '굳 ㅋ', '1']\n",
            "i : 2\n",
            "split by tab :  ['9274899', 'GDNTOPCLASSINTHECLUB', '0']\n",
            "i : 3\n",
            "split by tab :  ['8544678', '뭐야 이 평점들은.... 나쁘진 않지만 10점 짜리는 더더욱 아니잖아', '0']\n",
            "i : 4\n",
            "split by tab :  ['6825595', '지루하지는 않은데 완전 막장임... 돈주고 보기에는....', '0']\n",
            "i : 5\n",
            "split by tab :  ['6723715', '3D만 아니었어도 별 다섯 개 줬을텐데.. 왜 3D로 나와서 제 심기를 불편하게 하죠??', '0']\n",
            "i : 6\n",
            "split by tab :  ['7898805', '음악이 주가 된, 최고의 음악영화', '1']\n",
            "i : 7\n",
            "split by tab :  ['6315043', '진정한 쓰레기', '0']\n",
            "i : 8\n",
            "split by tab :  ['6097171', '마치 미국애니에서 튀어나온듯한 창의력없는 로봇디자인부터가,고개를 젖게한다', '0']\n",
            "i : 9\n",
            "split by tab :  ['8932678', '갈수록 개판되가는 중국영화 유치하고 내용없음 폼잡다 끝남 말도안되는 무기에 유치한cg남무 아 그립다 동사서독같은 영화가 이건 3류아류작이다', '0']\n"
          ]
        }
      ]
    },
    {
      "cell_type": "code",
      "source": [
        "#긍부정 리뷰 분류\n",
        "positive_reviews = []\n",
        "negative_reviews = []\n",
        "\n",
        "for i, line in enumerate(lines):\n",
        "  id, doc, label = line.strip().split(\"\\t\")\n",
        "  if label == '1': #데이터값 형식 체크할 것.\n",
        "    positive_reviews.append(doc)\n",
        "  elif label == '0':\n",
        "    negative_reviews.append(doc)\n",
        "  else: #혹시나 0, 1 이 없는 경우 대비\n",
        "    continue\n",
        "\n",
        "print(\"positive_reviews : \", len(positive_reviews))\n",
        "print(\"negative_reviews : \", len(negative_reviews))\n",
        "\n"
      ],
      "metadata": {
        "colab": {
          "base_uri": "https://localhost:8080/"
        },
        "id": "p6zzV1klarsL",
        "outputId": "0a839563-6184-4cbf-f4b2-0eff54c99b6e"
      },
      "execution_count": null,
      "outputs": [
        {
          "output_type": "stream",
          "name": "stdout",
          "text": [
            "positive_reviews :  5061\n",
            "negative_reviews :  4938\n"
          ]
        }
      ]
    },
    {
      "cell_type": "code",
      "source": [
        "print(positive_reviews[:5])"
      ],
      "metadata": {
        "colab": {
          "base_uri": "https://localhost:8080/"
        },
        "id": "_VEIyWp9b5_r",
        "outputId": "3a56c169-dd08-4247-b5ff-641e15858a68"
      },
      "execution_count": null,
      "outputs": [
        {
          "output_type": "stream",
          "name": "stdout",
          "text": [
            "['굳 ㅋ', '음악이 주가 된, 최고의 음악영화', '이별의 아픔뒤에 찾아오는 새로운 인연의 기쁨 But, 모든 사람이 그렇지는 않네..', '괜찮네요오랜만포켓몬스터잼밌어요', '청춘은 아름답다 그 아름다움은 이성을 흔들어 놓는다. 찰나의 아름다움을 잘 포착한 섬세하고 아름다운 수채화같은 퀴어영화이다.']\n"
          ]
        }
      ]
    },
    {
      "cell_type": "code",
      "source": [
        "# 한 리스트로 묶어주기\n",
        "test = [\"I\", \"like\", \"Pizza\",\"LoL\"]\n",
        "result1 = \"\\n\".join(test)  #줄바꿈으로 구분\n",
        "result2 = \"\\t\".join(test)  #탭으로 구분\n",
        "result3 = \" \".join(test)   #공백으로 구분\n",
        "\n",
        "print(result1)\n",
        "print(result2)\n",
        "print(result3)"
      ],
      "metadata": {
        "colab": {
          "base_uri": "https://localhost:8080/"
        },
        "id": "hlqVFJ3ocEc3",
        "outputId": "db2e71c2-1204-435a-ae61-00bd7fd8ee4d"
      },
      "execution_count": null,
      "outputs": [
        {
          "output_type": "stream",
          "name": "stdout",
          "text": [
            "I\n",
            "like\n",
            "Pizza\n",
            "LoL\n",
            "I\tlike\tPizza\tLoL\n",
            "I like Pizza LoL\n"
          ]
        }
      ]
    },
    {
      "cell_type": "code",
      "source": [
        "#result3처럼 공백을 구분자로 하나의 document로 만들어줌\n",
        "positive_txt = \" \".join(positive_reviews)\n",
        "negative_txt = \" \".join(negative_reviews)"
      ],
      "metadata": {
        "id": "da5Ce7oLcxz7"
      },
      "execution_count": null,
      "outputs": []
    },
    {
      "cell_type": "code",
      "source": [
        "!pip install konlpy"
      ],
      "metadata": {
        "colab": {
          "base_uri": "https://localhost:8080/"
        },
        "id": "IUtw_YApdD98",
        "outputId": "c181b5b1-a066-4df7-fad9-97cd7aeaf4f3"
      },
      "execution_count": null,
      "outputs": [
        {
          "output_type": "stream",
          "name": "stdout",
          "text": [
            "Looking in indexes: https://pypi.org/simple, https://us-python.pkg.dev/colab-wheels/public/simple/\n",
            "Collecting konlpy\n",
            "  Downloading konlpy-0.6.0-py2.py3-none-any.whl (19.4 MB)\n",
            "\u001b[K     |████████████████████████████████| 19.4 MB 6.2 MB/s \n",
            "\u001b[?25hRequirement already satisfied: lxml>=4.1.0 in /usr/local/lib/python3.7/dist-packages (from konlpy) (4.9.1)\n",
            "Requirement already satisfied: numpy>=1.6 in /usr/local/lib/python3.7/dist-packages (from konlpy) (1.21.6)\n",
            "Collecting JPype1>=0.7.0\n",
            "  Downloading JPype1-1.4.1-cp37-cp37m-manylinux_2_12_x86_64.manylinux2010_x86_64.whl (465 kB)\n",
            "\u001b[K     |████████████████████████████████| 465 kB 55.3 MB/s \n",
            "\u001b[?25hRequirement already satisfied: packaging in /usr/local/lib/python3.7/dist-packages (from JPype1>=0.7.0->konlpy) (21.3)\n",
            "Requirement already satisfied: typing-extensions in /usr/local/lib/python3.7/dist-packages (from JPype1>=0.7.0->konlpy) (4.1.1)\n",
            "Requirement already satisfied: pyparsing!=3.0.5,>=2.0.2 in /usr/local/lib/python3.7/dist-packages (from packaging->JPype1>=0.7.0->konlpy) (3.0.9)\n",
            "Installing collected packages: JPype1, konlpy\n",
            "Successfully installed JPype1-1.4.1 konlpy-0.6.0\n"
          ]
        }
      ]
    },
    {
      "cell_type": "code",
      "source": [
        "from konlpy.tag import Okt\n",
        "\n",
        "okt = Okt()"
      ],
      "metadata": {
        "id": "IfRnejyFdPs2"
      },
      "execution_count": null,
      "outputs": []
    },
    {
      "cell_type": "code",
      "source": [
        "#Wordcloud 생성(1) - 형태소 분석\n",
        "positive_morphs = okt.morphs(positive_txt)\n",
        "print(positive_morphs[:10])"
      ],
      "metadata": {
        "colab": {
          "base_uri": "https://localhost:8080/"
        },
        "id": "dW_pk-JDdZj3",
        "outputId": "ced255d2-2e25-47d1-a877-c38dcd221f91"
      },
      "execution_count": null,
      "outputs": [
        {
          "output_type": "stream",
          "name": "stdout",
          "text": [
            "['굳', 'ㅋ', '음악', '이', '주가', '된', ',', '최고', '의', '음악']\n"
          ]
        }
      ]
    },
    {
      "cell_type": "code",
      "source": [
        "from collections import Counter\n",
        "\n",
        "count_pos = Counter(positive_morphs)\n",
        "count_pos_list = count_pos.most_common(100)\n",
        "\n",
        "for morph in count_pos_list:\n",
        "  print(morph)"
      ],
      "metadata": {
        "colab": {
          "base_uri": "https://localhost:8080/"
        },
        "id": "Iz010R40eP-7",
        "outputId": "95ca4f74-60f5-4627-e500-187fffd5d6d6"
      },
      "execution_count": null,
      "outputs": [
        {
          "output_type": "stream",
          "name": "stdout",
          "text": [
            "('.', 2303)\n",
            "('이', 1882)\n",
            "('영화', 1726)\n",
            "('의', 1294)\n",
            "('에', 901)\n",
            "('..', 848)\n",
            "('을', 833)\n",
            "('가', 795)\n",
            "('...', 669)\n",
            "('도', 616)\n",
            "('들', 614)\n",
            "(',', 558)\n",
            "('를', 546)\n",
            "('는', 482)\n",
            "('은', 452)\n",
            "('정말', 426)\n",
            "('너무', 408)\n",
            "('!', 405)\n",
            "('적', 381)\n",
            "('최고', 369)\n",
            "('한', 329)\n",
            "('에서', 290)\n",
            "('진짜', 281)\n",
            "('다', 270)\n",
            "('잘', 259)\n",
            "('~', 256)\n",
            "('연기', 253)\n",
            "('으로', 242)\n",
            "('과', 238)\n",
            "('감동', 233)\n",
            "('와', 232)\n",
            "('드라마', 231)\n",
            "('그', 227)\n",
            "('생각', 222)\n",
            "('?', 217)\n",
            "('로', 216)\n",
            "('점', 216)\n",
            "('만', 212)\n",
            "('인', 212)\n",
            "('것', 198)\n",
            "('내', 197)\n",
            "('때', 195)\n",
            "('이다', 190)\n",
            "('요', 188)\n",
            "('보고', 179)\n",
            "('평점', 178)\n",
            "('나', 178)\n",
            "('사람', 176)\n",
            "('!!', 171)\n",
            "('다시', 166)\n",
            "('중', 162)\n",
            "('게', 161)\n",
            "('사랑', 158)\n",
            "('본', 154)\n",
            "('더', 149)\n",
            "('하는', 144)\n",
            "('ㅋㅋ', 143)\n",
            "('이런', 139)\n",
            "('수', 137)\n",
            "('하고', 134)\n",
            "('배우', 133)\n",
            "('보다', 132)\n",
            "('까지', 129)\n",
            "('마지막', 129)\n",
            "('....', 127)\n",
            "('봤는데', 127)\n",
            "('왜', 126)\n",
            "('말', 124)\n",
            "('스토리', 123)\n",
            "('ㅠㅠ', 122)\n",
            "('못', 121)\n",
            "('좋은', 121)\n",
            "('있는', 115)\n",
            "('완전', 114)\n",
            "('10', 114)\n",
            "('고', 113)\n",
            "('지금', 112)\n",
            "('볼', 112)\n",
            "('아', 109)\n",
            "('재밌게', 108)\n",
            "('작품', 107)\n",
            "('봐도', 106)\n",
            "('입니다', 105)\n",
            "('안', 104)\n",
            "('네', 104)\n",
            "('^^', 101)\n",
            "('거', 100)\n",
            "('ㅋㅋㅋ', 95)\n",
            "('좀', 95)\n",
            "('역시', 94)\n",
            "('장면', 92)\n",
            "('ㅋ', 91)\n",
            "('그냥', 91)\n",
            "('꼭', 91)\n",
            "('재미', 90)\n",
            "('명작', 89)\n",
            "('저', 87)\n",
            "('ㅎㅎ', 86)\n",
            "('액션', 84)\n",
            "('1', 84)\n"
          ]
        }
      ]
    },
    {
      "cell_type": "code",
      "source": [
        "#stopwords 생성\n",
        "my_stopwrds = ['^^', '1', 'ㅋ','ㅎㅎ','!','ㅜㅜ','..']\n",
        "\n",
        "new_positive_morphs = []\n",
        "for index, morph in enumerate(positive_morphs):\n",
        "  if len(morph) >=2 and morph not in my_stopwrds:\n",
        "    new_positive_morphs.append(morph)\n",
        "\n",
        "count_pos = Counter(new_positive_morphs)\n",
        "count_pos_list = count_pos.most_common(100)\n",
        "\n",
        "for morph in count_pos_list:\n",
        "  print(morph)"
      ],
      "metadata": {
        "colab": {
          "base_uri": "https://localhost:8080/"
        },
        "id": "M6QSFYVWe2IK",
        "outputId": "4624bfc9-ab3b-40e9-98a4-e40e796a461a"
      },
      "execution_count": null,
      "outputs": [
        {
          "output_type": "stream",
          "name": "stdout",
          "text": [
            "('영화', 1726)\n",
            "('...', 669)\n",
            "('정말', 426)\n",
            "('너무', 408)\n",
            "('최고', 369)\n",
            "('에서', 290)\n",
            "('진짜', 281)\n",
            "('연기', 253)\n",
            "('으로', 242)\n",
            "('감동', 233)\n",
            "('드라마', 231)\n",
            "('생각', 222)\n",
            "('이다', 190)\n",
            "('보고', 179)\n",
            "('평점', 178)\n",
            "('사람', 176)\n",
            "('!!', 171)\n",
            "('다시', 166)\n",
            "('사랑', 158)\n",
            "('하는', 144)\n",
            "('ㅋㅋ', 143)\n",
            "('이런', 139)\n",
            "('하고', 134)\n",
            "('배우', 133)\n",
            "('보다', 132)\n",
            "('까지', 129)\n",
            "('마지막', 129)\n",
            "('....', 127)\n",
            "('봤는데', 127)\n",
            "('스토리', 123)\n",
            "('ㅠㅠ', 122)\n",
            "('좋은', 121)\n",
            "('있는', 115)\n",
            "('완전', 114)\n",
            "('10', 114)\n",
            "('지금', 112)\n",
            "('재밌게', 108)\n",
            "('작품', 107)\n",
            "('봐도', 106)\n",
            "('입니다', 105)\n",
            "('ㅋㅋㅋ', 95)\n",
            "('역시', 94)\n",
            "('장면', 92)\n",
            "('그냥', 91)\n",
            "('재미', 90)\n",
            "('명작', 89)\n",
            "('액션', 84)\n",
            "('가슴', 82)\n",
            "('마음', 81)\n",
            "('내용', 80)\n",
            "('보는', 79)\n",
            "('눈물', 79)\n",
            "('인생', 79)\n",
            "('좋다', 76)\n",
            "('감독', 74)\n",
            "('여운', 74)\n",
            "('그리고', 74)\n",
            "('기억', 73)\n",
            "('하나', 72)\n",
            "('없는', 72)\n",
            "('~~', 71)\n",
            "('!!!', 68)\n",
            "('이야기', 67)\n",
            "('많이', 65)\n",
            "('현실', 65)\n",
            "('재밌다', 64)\n",
            "('대박', 64)\n",
            "('처음', 64)\n",
            "('매력', 63)\n",
            "('모습', 63)\n",
            "('아이', 62)\n",
            "('정도', 62)\n",
            "('해서', 62)\n",
            "('한다', 62)\n",
            "('하게', 62)\n",
            "('가장', 61)\n",
            "('이렇게', 61)\n",
            "('한번', 61)\n",
            "('주인공', 61)\n",
            "('이영화', 61)\n",
            "('같은', 60)\n",
            "('에게', 59)\n",
            "('추천', 59)\n",
            "('재미있게', 58)\n",
            "('보면', 58)\n",
            "('보기', 58)\n",
            "('였다', 57)\n",
            "('느낌', 57)\n",
            "('이고', 57)\n",
            "('인간', 56)\n",
            "('우리', 56)\n",
            "('많은', 55)\n",
            "('재밌어요', 55)\n",
            "('봤다', 54)\n",
            "('합니다', 53)\n",
            "('다른', 53)\n",
            "('아름다운', 52)\n",
            "('인데', 51)\n",
            "('이해', 51)\n",
            "('모든', 50)\n"
          ]
        }
      ]
    },
    {
      "cell_type": "code",
      "source": [
        "#명사뽑기 방법으로도 가능\n",
        "positive_nouns = okt.nouns(positive_txt)\n",
        "print('nouns : ', positive_nouns[:100])"
      ],
      "metadata": {
        "colab": {
          "base_uri": "https://localhost:8080/"
        },
        "id": "y0nAVucDf5g6",
        "outputId": "845c3e54-95b5-4b2e-89a3-e2b8eaa0f175"
      },
      "execution_count": null,
      "outputs": [
        {
          "output_type": "stream",
          "name": "stdout",
          "text": [
            "nouns :  ['음악', '주가', '최고', '음악', '영화', '이별', '아픔', '뒤', '인연', '기쁨', '모든', '사람', '포켓몬스터', '잼밌', '청춘', '그', '움', '이성', '찰나', '움', '포착', '수채화', '퀴어', '영화', '눈', '반전', '영화', '흡인', '소위', '가라', '평점', '뭐', '최고', '나이스', '금요일', '나이트메어', '시리즈', '가장', '시리즈', '양산', '헬레', '저', '시리즈', '편', '작가', '상상력', '작품', '갈고리', '사지', '고어씬', '지금', '보더', '충격', '꽤', '영화', '민주화', '시대', '영혼', '관음', '욕구', '분출', '인상', '때', '어미', '알', '부스', '름', '분', '저', '아래', '영화', '제대로', '안', '알', '새끼', '그냥', '가면', '그', '놈', '것임', '놈', '두', '놈', '막', '게', '작살', '낼', '수', '번은', '어쩜', '실화', '더욱', '벌써', '지금', '영화', '마음', '가장', '영화', '안보', '후회']\n"
          ]
        }
      ]
    },
    {
      "cell_type": "code",
      "source": [
        "#wordcloud 만들기\n",
        "\n",
        "!pip install wordcloud"
      ],
      "metadata": {
        "colab": {
          "base_uri": "https://localhost:8080/"
        },
        "id": "ZSFXOrQFgMS5",
        "outputId": "cfc9056c-d213-4929-b1f3-13c3941b377f"
      },
      "execution_count": null,
      "outputs": [
        {
          "output_type": "stream",
          "name": "stdout",
          "text": [
            "Looking in indexes: https://pypi.org/simple, https://us-python.pkg.dev/colab-wheels/public/simple/\n",
            "Requirement already satisfied: wordcloud in /usr/local/lib/python3.7/dist-packages (1.8.2.2)\n",
            "Requirement already satisfied: matplotlib in /usr/local/lib/python3.7/dist-packages (from wordcloud) (3.2.2)\n",
            "Requirement already satisfied: numpy>=1.6.1 in /usr/local/lib/python3.7/dist-packages (from wordcloud) (1.21.6)\n",
            "Requirement already satisfied: pillow in /usr/local/lib/python3.7/dist-packages (from wordcloud) (7.1.2)\n",
            "Requirement already satisfied: kiwisolver>=1.0.1 in /usr/local/lib/python3.7/dist-packages (from matplotlib->wordcloud) (1.4.4)\n",
            "Requirement already satisfied: cycler>=0.10 in /usr/local/lib/python3.7/dist-packages (from matplotlib->wordcloud) (0.11.0)\n",
            "Requirement already satisfied: pyparsing!=2.0.4,!=2.1.2,!=2.1.6,>=2.0.1 in /usr/local/lib/python3.7/dist-packages (from matplotlib->wordcloud) (3.0.9)\n",
            "Requirement already satisfied: python-dateutil>=2.1 in /usr/local/lib/python3.7/dist-packages (from matplotlib->wordcloud) (2.8.2)\n",
            "Requirement already satisfied: typing-extensions in /usr/local/lib/python3.7/dist-packages (from kiwisolver>=1.0.1->matplotlib->wordcloud) (4.1.1)\n",
            "Requirement already satisfied: six>=1.5 in /usr/local/lib/python3.7/dist-packages (from python-dateutil>=2.1->matplotlib->wordcloud) (1.15.0)\n"
          ]
        }
      ]
    },
    {
      "cell_type": "code",
      "source": [
        "from wordcloud import WordCloud\n",
        "\n",
        "text = \"이것 은 예문 입니다. 내 맘대로 할 거야ㅏ아 \"\n",
        "wordcloud = WordCloud(font_path = \"/content/SeoulHangangB.ttf\", width=800, height = 800) #한국어는 폰트 지정해주어야함\n",
        "\n",
        "wordcloud = wordcloud.generate_from_text(text) #워드클라우드를 만들기 위해 데이터를 넣은 것\n"
      ],
      "metadata": {
        "id": "RLYVVz9mgaJU"
      },
      "execution_count": null,
      "outputs": []
    },
    {
      "cell_type": "code",
      "source": [
        "import matplotlib.pyplot as plt\n",
        "\n",
        "plt.figure()\n",
        "plt.axis('off')\n",
        "plt.imshow(wordcloud, interpolation = 'bilinear')\n",
        "plt.show"
      ],
      "metadata": {
        "colab": {
          "base_uri": "https://localhost:8080/",
          "height": 265
        },
        "id": "dmzzeFOrhFPy",
        "outputId": "5f4e80b5-f3f5-4714-e063-cc11bbb6d67d"
      },
      "execution_count": null,
      "outputs": [
        {
          "output_type": "execute_result",
          "data": {
            "text/plain": [
              "<function matplotlib.pyplot.show(*args, **kw)>"
            ]
          },
          "metadata": {},
          "execution_count": 36
        },
        {
          "output_type": "display_data",
          "data": {
            "text/plain": [
              "<Figure size 432x288 with 1 Axes>"
            ],
            "image/png": "[encoded data removed]"
          },
          "metadata": {
            "needs_background": "light"
          }
        }
      ]
    },
    {
      "cell_type": "code",
      "source": [
        "kewords = {'이것':5, '예문':3, '단어':5, '빈도수':2}\n",
        "wordcloud = wordcloud.generate_from_frequencies(kewords)\n",
        "\n",
        "plt.figure()\n",
        "plt.axis('off')\n",
        "plt.imshow(wordcloud, interpolation = 'bilinear')\n",
        "plt.show"
      ],
      "metadata": {
        "colab": {
          "base_uri": "https://localhost:8080/",
          "height": 265
        },
        "id": "Mko6gLPfhky5",
        "outputId": "9c6aa589-29e2-49bf-a0af-e1f966d48cd3"
      },
      "execution_count": null,
      "outputs": [
        {
          "output_type": "execute_result",
          "data": {
            "text/plain": [
              "<function matplotlib.pyplot.show(*args, **kw)>"
            ]
          },
          "metadata": {},
          "execution_count": 37
        },
        {
          "output_type": "display_data",
          "data": {
            "text/plain": [
              "<Figure size 432x288 with 1 Axes>"
            ],
            "image/png": "[encoded data removed]"
          },
          "metadata": {
            "needs_background": "light"
          }
        }
      ]
    },
    {
      "cell_type": "code",
      "source": [
        "#count_pos는 현재 튜플형 > 딕셔너리로 만들어주기\n",
        "count_pos_nouns = Counter(positive_nouns)\n",
        "pos_nouns_list = count_pos_nouns.most_common(100)\n",
        "print(pos_nouns_list[0])  #튜플형"
      ],
      "metadata": {
        "colab": {
          "base_uri": "https://localhost:8080/"
        },
        "id": "FdCT_Rg5h_gF",
        "outputId": "26c156d8-081b-4bf6-9bf9-7b622b2aa6ff"
      },
      "execution_count": null,
      "outputs": [
        {
          "output_type": "stream",
          "name": "stdout",
          "text": [
            "('영화', 1726)\n"
          ]
        }
      ]
    },
    {
      "cell_type": "code",
      "source": [
        "pos_noun_dict = dict() #{}\n",
        "for noun, freq in pos_nouns_list:\n",
        "  pos_noun_dict[noun] = freq\n",
        "\n",
        "print(pos_noun_dict[\"영화\"])"
      ],
      "metadata": {
        "colab": {
          "base_uri": "https://localhost:8080/"
        },
        "id": "pYz45IWgieyi",
        "outputId": "e2810dbc-e668-4f28-f1e6-3b60c34e658d"
      },
      "execution_count": null,
      "outputs": [
        {
          "output_type": "stream",
          "name": "stdout",
          "text": [
            "1726\n"
          ]
        }
      ]
    },
    {
      "cell_type": "code",
      "source": [
        "wordcloud = WordCloud(background_color =\"white\", font_path=\"/content/SeoulHangangB.ttf\", width=500, height=500)\n",
        "\n",
        "wordcloud = wordcloud.generate_from_frequencies(pos_noun_dict)\n",
        "\n",
        "wordcloud.to_file(\"content\\wordcloud.jpg\")"
      ],
      "metadata": {
        "colab": {
          "base_uri": "https://localhost:8080/"
        },
        "id": "jfwWFiupi4vz",
        "outputId": "9bfbf544-6e2f-4442-c9f7-ca35e9ae9d31"
      },
      "execution_count": null,
      "outputs": [
        {
          "output_type": "execute_result",
          "data": {
            "text/plain": [
              "<wordcloud.wordcloud.WordCloud at 0x7f44814c7250>"
            ]
          },
          "metadata": {},
          "execution_count": 43
        }
      ]
    },
    {
      "cell_type": "markdown",
      "source": [
        "# **Word2Vec == Word Embedding**\n"
      ],
      "metadata": {
        "id": "b8zWhIsDjsvc"
      }
    },
    {
      "cell_type": "code",
      "source": [
        "!pip install gensim"
      ],
      "metadata": {
        "colab": {
          "base_uri": "https://localhost:8080/"
        },
        "id": "IGUB4jdbjpDu",
        "outputId": "78c14125-2a3f-4386-f082-53119333d554"
      },
      "execution_count": null,
      "outputs": [
        {
          "output_type": "stream",
          "name": "stdout",
          "text": [
            "Looking in indexes: https://pypi.org/simple, https://us-python.pkg.dev/colab-wheels/public/simple/\n",
            "Requirement already satisfied: gensim in /usr/local/lib/python3.7/dist-packages (3.6.0)\n",
            "Requirement already satisfied: smart-open>=1.2.1 in /usr/local/lib/python3.7/dist-packages (from gensim) (5.2.1)\n",
            "Requirement already satisfied: six>=1.5.0 in /usr/local/lib/python3.7/dist-packages (from gensim) (1.15.0)\n",
            "Requirement already satisfied: scipy>=0.18.1 in /usr/local/lib/python3.7/dist-packages (from gensim) (1.7.3)\n",
            "Requirement already satisfied: numpy>=1.11.3 in /usr/local/lib/python3.7/dist-packages (from gensim) (1.21.6)\n"
          ]
        }
      ]
    },
    {
      "cell_type": "code",
      "source": [
        "from gensim import models\n",
        "from gensim.models import Word2Vec"
      ],
      "metadata": {
        "id": "iuitqrDjkGlP"
      },
      "execution_count": null,
      "outputs": []
    },
    {
      "cell_type": "code",
      "source": [
        "print(positive_reviews[:10])"
      ],
      "metadata": {
        "colab": {
          "base_uri": "https://localhost:8080/"
        },
        "id": "ndsT1iiCkdjt",
        "outputId": "1526f17c-d35e-46fb-972e-c0bf58bb9034"
      },
      "execution_count": null,
      "outputs": [
        {
          "output_type": "stream",
          "name": "stdout",
          "text": [
            "['굳 ㅋ', '음악이 주가 된, 최고의 음악영화', '이별의 아픔뒤에 찾아오는 새로운 인연의 기쁨 But, 모든 사람이 그렇지는 않네..', '괜찮네요오랜만포켓몬스터잼밌어요', '청춘은 아름답다 그 아름다움은 이성을 흔들어 놓는다. 찰나의 아름다움을 잘 포착한 섬세하고 아름다운 수채화같은 퀴어영화이다.', '눈에 보이는 반전이었지만 영화의 흡인력은 사라지지 않았다.', '소위 ㅈ문가라는 평점은 뭐냐?', '최고!!!!!!!!!!!!!!!!', '나이스', \"'13일의 금요일', '나이트메어'시리즈와 함께 가장 많은 시리즈를 양산해냈던 헬레이저 시리즈의 첫편. 작가의 상상력이 돋보이는 작품이며, 갈고리로 사지찢는 고어씬은 지금보더라도 상당히 잔인하고 충격적이다.\"]\n"
          ]
        }
      ]
    },
    {
      "cell_type": "code",
      "source": [
        "from tqdm import tqdm #얼마나 진행되고 있는지 시간으로 볼 수 있음\n",
        "import time\n",
        "\n",
        "w2v_data = []\n",
        "\n",
        "for data in positive_reviews:\n",
        "  tokenized = okt.morphs(data, stem = True)\n",
        "\n",
        "#stopwords_removed = [word for word in tokenized if not word in my_stopwrds]\n",
        "  stopwords_removed = []\n",
        "  for word in tokenized:\n",
        "    if not word in my_stopwrds:\n",
        "      stopwords_removed.append(word)\n",
        "\n",
        "  w2v_data.append(stopwords_removed)\n",
        "\n",
        "print(w2v_data[:3])"
      ],
      "metadata": {
        "colab": {
          "base_uri": "https://localhost:8080/"
        },
        "id": "5ReuDhkikhbF",
        "outputId": "e5b63fb9-0e3f-4ca1-9438-c4af30832906"
      },
      "execution_count": null,
      "outputs": [
        {
          "output_type": "stream",
          "name": "stdout",
          "text": [
            "[['굳다'], ['음악', '이', '주가', '되다', ',', '최고', '의', '음악', '영화'], ['이별', '의', '아픔', '뒤', '에', '찾아오다', '새롭다', '인연', '의', '기쁨', 'But', ',', '모든', '사람', '이', '그렇다', '않다']]\n"
          ]
        }
      ]
    },
    {
      "cell_type": "code",
      "source": [
        "w2v = Word2Vec(sentences=w2v_data, size=100, window=5, min_count=5, workers=4, sg=0)\n",
        "#벡터 사이즈 제한"
      ],
      "metadata": {
        "colab": {
          "base_uri": "https://localhost:8080/"
        },
        "id": "sq31yG_KmF-N",
        "outputId": "29d1731c-2fac-4ee0-e396-a8bd43f08917"
      },
      "execution_count": null,
      "outputs": [
        {
          "output_type": "stream",
          "name": "stderr",
          "text": [
            "WARNING:gensim.models.base_any2vec:under 10 jobs per worker: consider setting a smaller `batch_words' for smoother alpha decay\n"
          ]
        }
      ]
    },
    {
      "cell_type": "code",
      "source": [
        "w2v.wv.vectors.shape"
      ],
      "metadata": {
        "colab": {
          "base_uri": "https://localhost:8080/"
        },
        "id": "9woApogrmjQk",
        "outputId": "e28bdb9d-b5ac-47d7-e805-fe377b67fb07"
      },
      "execution_count": null,
      "outputs": [
        {
          "output_type": "execute_result",
          "data": {
            "text/plain": [
              "(1588, 100)"
            ]
          },
          "metadata": {},
          "execution_count": 55
        }
      ]
    },
    {
      "cell_type": "code",
      "source": [
        "w2v.wv.most_similar(\"음악\")\n",
        "#음악과 가까운 벡터들"
      ],
      "metadata": {
        "colab": {
          "base_uri": "https://localhost:8080/"
        },
        "id": "a1CY0pflmtEi",
        "outputId": "b2013d30-fdb5-45fa-c664-ebb252328e73"
      },
      "execution_count": null,
      "outputs": [
        {
          "output_type": "execute_result",
          "data": {
            "text/plain": [
              "[('내용', 0.9997544288635254),\n",
              " ('액션', 0.9997501969337463),\n",
              " ('엔', 0.999746561050415),\n",
              " ('보여주다', 0.9997442960739136),\n",
              " ('에서', 0.9997427463531494),\n",
              " ('....', 0.9997391104698181),\n",
              " ('지만', 0.9997380375862122),\n",
              " (',', 0.9997369050979614),\n",
              " ('더', 0.9997367858886719),\n",
              " ('다', 0.9997332096099854)]"
            ]
          },
          "metadata": {},
          "execution_count": 59
        }
      ]
    }
  ]
}
